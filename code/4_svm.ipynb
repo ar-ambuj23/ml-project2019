{
 "cells": [
  {
   "cell_type": "code",
   "execution_count": 1,
   "metadata": {},
   "outputs": [],
   "source": [
    "# import libsvm\n",
    "# import hyperparameters\n",
    "import numpy as np\n",
    "import pandas as pd"
   ]
  },
  {
   "cell_type": "code",
   "execution_count": 2,
   "metadata": {},
   "outputs": [],
   "source": [
    "'''\n",
    "I am setting a global int value for seed here which can be used at multiple places as needed.\n",
    "If you want to change the seed value you don't have to do it at each and every place. \n",
    "You can just change it here.\n",
    "'''\n",
    "random_seed = 52"
   ]
  },
  {
   "cell_type": "code",
   "execution_count": 30,
   "metadata": {},
   "outputs": [],
   "source": [
    "'''\n",
    "SVM\n",
    "'''\n",
    "def svm(X_train, y_train, epochs, lr, c):\n",
    "    \n",
    "    # Setting the seed\n",
    "    np.random.seed(seed=random_seed)\n",
    "    \n",
    "    #dimensions of svm + bias\n",
    "    dim = X_train.shape[1] \n",
    "\n",
    "    # Initializing Weight vector with bias term\n",
    "    # 2 options\n",
    "#     w = np.random.uniform(-0.01, 0.01, size = dim)\n",
    "    w = np.zeros(dim)\n",
    "    \n",
    "    for epoch in range(epochs):\n",
    "        \n",
    "        # Decaying learning rate\n",
    "        lr = lr / (1+epoch)\n",
    "        \n",
    "        #Shuffle both X and y in the same order\n",
    "        X_train_s, y_train_s = shuffle_arrays(X_train,y_train)\n",
    "        \n",
    "        for x, y in zip(X_train_s, y_train_s):\n",
    "            \n",
    "            #Make an update according to mistake done or not\n",
    "            if (y*np.dot(x,w.T)<=1):\n",
    "                w = (1-lr)*w + lr*c*y*x\n",
    "            else:\n",
    "                w = (1-lr)*w\n",
    "    return w"
   ]
  },
  {
   "cell_type": "code",
   "execution_count": 4,
   "metadata": {},
   "outputs": [],
   "source": [
    "def addOnesColumn(X_train):\n",
    "    \n",
    "    # Adding extra feature 1 to the X_matrix\n",
    "    ones_column = np.ones(X_train.shape[0])\n",
    "    X_train_b = np.hstack((X_train, ones_column[:, np.newaxis]))\n",
    "    \n",
    "    return X_train_b"
   ]
  },
  {
   "cell_type": "code",
   "execution_count": 54,
   "metadata": {},
   "outputs": [],
   "source": [
    "def predict(x,w):\n",
    "    \n",
    "    temp_output = np.dot(w.T,x)\n",
    "\n",
    "    if(temp_output >= 0):\n",
    "        output = 1\n",
    "    else:\n",
    "        output = 0\n",
    "            \n",
    "    return output"
   ]
  },
  {
   "cell_type": "code",
   "execution_count": 49,
   "metadata": {},
   "outputs": [],
   "source": [
    "def get_preds(X, y, w):\n",
    "    \n",
    "    predictions = []\n",
    "    \n",
    "    for x in X:\n",
    "        pred = predict(x, w)\n",
    "        predictions.append(pred)\n",
    "        \n",
    "    return predictions"
   ]
  },
  {
   "cell_type": "code",
   "execution_count": 48,
   "metadata": {},
   "outputs": [],
   "source": [
    "def accuracy(X, y, w):\n",
    "    \n",
    "    predictions = get_preds(X, y, w)\n",
    "    \n",
    "    acc = np.sum(y == predictions)/len(predictions)\n",
    "    return acc"
   ]
  },
  {
   "cell_type": "code",
   "execution_count": 7,
   "metadata": {},
   "outputs": [],
   "source": [
    "'''\n",
    "Takes your samples(X) and the labels(y) and shuffle them with the same order\n",
    "'''\n",
    "def shuffle_arrays(X, y):\n",
    "    \n",
    "    # Setting the seed\n",
    "    np.random.seed(seed=random_seed)\n",
    "    \n",
    "    idx = np.arange(X.shape[0])\n",
    "    np.random.shuffle(idx)\n",
    "    \n",
    "    return X[idx], y[idx]"
   ]
  },
  {
   "cell_type": "code",
   "execution_count": 28,
   "metadata": {},
   "outputs": [],
   "source": [
    "def kfold(fold_x_list,fold_y_list, hyperparameters, epochs):\n",
    "    \n",
    "#     zipped_folds_list = list(zip(*fold_list))\n",
    "    \n",
    "#     fold_x_list = list(zipped_folds_list[0]) ## list of x from each fold\n",
    "#     fold_y_list = list(zipped_folds_list[1]) ## list of y from each fold\n",
    "    \n",
    "#     hyper_parameters = hyperparameters.get_hyperparameters(model='svm') # getting the hyperparameter dict    \n",
    "    \n",
    "    # Making the res_df according to the model type\n",
    "    fold_acc_cols = ['fold1_acc','fold2_acc','fold3_acc','fold4_acc','fold5_acc']    \n",
    "    cols = fold_acc_cols + list(hyperparameters.keys())\n",
    "    res_df = pd.DataFrame(columns=cols)\n",
    "    \n",
    "    for n, (x_tr, y_tr) in enumerate(zip(fold_x_list,fold_y_list)):\n",
    "    \n",
    "        train_x_list = []\n",
    "        train_y_list = []\n",
    "        for i in range(0,len(fold_x_list)):\n",
    "            if(i!=n):\n",
    "                train_x_list.append(fold_x_list[i])\n",
    "                train_y_list.append(fold_y_list[i])\n",
    "\n",
    "        train_x_mat = np.vstack(train_x_list) ## The trainig feature matrix of the current fold\n",
    "        train_y_mat = np.hstack(train_y_list) ## The training label vector of the current fold\n",
    "\n",
    "        val_x_mat = x_tr ## The validation feature matrix of the current fold\n",
    "        val_y_mat = y_tr ## The validation label vector of the current fold\n",
    "                    \n",
    "        lr_list = hyperparameters['lr']\n",
    "        c_list = hyperparameters['C']\n",
    "            \n",
    "        for lr in lr_list:\n",
    "            for c in c_list:\n",
    "                \n",
    "                temp_df = pd.DataFrame(columns=cols)\n",
    "                \n",
    "                w = svm(train_x_mat, train_y_mat, epochs, lr, c)\n",
    "                val_acc = accuracy(val_x_mat, val_y_mat, w)\n",
    "        \n",
    "                temp_df.loc[0,'lr'] = lr\n",
    "                temp_df.loc[0,'C'] = c\n",
    "                temp_df.loc[0,'fold{}_acc'.format(n+1)] = val_acc\n",
    "                res_df = res_df.append(temp_df)\n",
    "                \n",
    "\n",
    "    # Modifying the df            \n",
    "    ans_df = pd.DataFrame()\n",
    "    for c in c_list:\n",
    "        c_df = res_df[res_df['C'] == c]\n",
    "        c_df1 = c_df.drop(['C'],axis=1)\n",
    "        a = modifydf(c_df1, lr_list)\n",
    "        a['C'] = c\n",
    "        ans_df = ans_df.append(a)\n",
    "        \n",
    "    # Calculating the avg accuracy\n",
    "    ans_df['avg_acc'] = ans_df['fold1_acc'] + ans_df['fold2_acc'] + ans_df['fold3_acc'] + ans_df['fold4_acc'] + ans_df['fold5_acc']\n",
    "    ans_df['avg_acc'] = ans_df['avg_acc'] / 5\n",
    "                \n",
    "    return ans_df.reset_index(drop=True)"
   ]
  },
  {
   "cell_type": "code",
   "execution_count": 9,
   "metadata": {},
   "outputs": [],
   "source": [
    "def modifydf(df, lr_list):\n",
    "    \n",
    "    ans_df = pd.DataFrame()\n",
    "    for lr in lr_list:\n",
    "        a = df[df['lr'] == lr]\n",
    "        b = a.drop(['lr'],axis=1)\n",
    "        cols = b.columns\n",
    "        c = pd.DataFrame(np.diag(b), index=[b.index, b.columns]).T\n",
    "        c.columns = cols\n",
    "        c['lr'] = lr\n",
    "        ans_df = ans_df.append(c)\n",
    "        \n",
    "    return ans_df"
   ]
  },
  {
   "cell_type": "code",
   "execution_count": 34,
   "metadata": {},
   "outputs": [],
   "source": [
    "def get_CV_splits(X,y,cv=5):\n",
    "    \n",
    "    X,y = shuffle_arrays(X,y)\n",
    "    \n",
    "    X_list = np.split(X,5)\n",
    "    y_list = np.split(y,5)\n",
    "    \n",
    "    return X_list, y_list"
   ]
  },
  {
   "cell_type": "code",
   "execution_count": 35,
   "metadata": {},
   "outputs": [],
   "source": [
    "hyperparameters = {'lr': [1, 0.1, 0.01, 0.001, 0.0001],\n",
    " 'C': [1, 0.1, 0.01, 0.001, 0.0001]}"
   ]
  },
  {
   "cell_type": "code",
   "execution_count": 57,
   "metadata": {},
   "outputs": [],
   "source": [
    "def driver(X,y):\n",
    "\n",
    "    # Doing Cross Validation\n",
    "    X_list, y_list = get_CV_splits(X,y)\n",
    "    ans_df = kfold(fold_x_list=X_list, fold_y_list=y_list, hyperparameters=hyperparameters, epochs=10)\n",
    "    \n",
    "    # Getting the best hyperparameters\n",
    "    best = ans_df[ans_df['avg_acc'] == ans_df['avg_acc'].max()]\n",
    "    best_lr = best['lr'].values[0]\n",
    "    best_C = best['C'].values[0]\n",
    "\n",
    "    # Training the model with best hyperparameters on whole data\n",
    "    w_best = svm(X, y, 20, best_lr, best_C)\n",
    "    preds = get_preds(X, y, w_best)\n",
    "    tr_acc = accuracy(X, y, w_best)\n",
    "    \n",
    "    return w_best, preds, tr_acc"
   ]
  }
 ],
 "metadata": {
  "kernelspec": {
   "display_name": "Python 3",
   "language": "python",
   "name": "python3"
  },
  "language_info": {
   "codemirror_mode": {
    "name": "ipython",
    "version": 3
   },
   "file_extension": ".py",
   "mimetype": "text/x-python",
   "name": "python",
   "nbconvert_exporter": "python",
   "pygments_lexer": "ipython3",
   "version": "3.7.4"
  }
 },
 "nbformat": 4,
 "nbformat_minor": 2
}
