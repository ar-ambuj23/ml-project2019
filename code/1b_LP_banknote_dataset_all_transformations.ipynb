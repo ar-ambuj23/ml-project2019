{
 "cells": [
  {
   "cell_type": "code",
   "execution_count": 27,
   "metadata": {},
   "outputs": [],
   "source": [
    "#import libraries\n",
    "import numpy as np\n",
    "import pandas as pd\n",
    "import matplotlib.pyplot as plt\n",
    "from scipy.optimize import linprog\n",
    "\n",
    "%run func_library.ipynb"
   ]
  },
  {
   "cell_type": "markdown",
   "metadata": {},
   "source": [
    "### Attribute Information:\n",
    "\n",
    "1. variance of Wavelet Transformed image (continuous) \n",
    "2. skewness of Wavelet Transformed image (continuous) \n",
    "3. curtosis of Wavelet Transformed image (continuous) \n",
    "4. entropy of image (continuous) \n",
    "5. class (integer) "
   ]
  },
  {
   "cell_type": "code",
   "execution_count": 28,
   "metadata": {},
   "outputs": [],
   "source": [
    "data = pd.read_csv('datasets/data_banknote_authentication.txt',header=None)"
   ]
  },
  {
   "cell_type": "code",
   "execution_count": 29,
   "metadata": {},
   "outputs": [],
   "source": [
    "data.columns = ['variance', 'skewness', 'curtosis', 'entropy', 'class']"
   ]
  },
  {
   "cell_type": "code",
   "execution_count": 30,
   "metadata": {},
   "outputs": [
    {
     "data": {
      "text/plain": [
       "0    762\n",
       "1    610\n",
       "Name: class, dtype: int64"
      ]
     },
     "execution_count": 30,
     "metadata": {},
     "output_type": "execute_result"
    }
   ],
   "source": [
    "data['class'].value_counts()"
   ]
  },
  {
   "cell_type": "markdown",
   "metadata": {},
   "source": [
    "### Getting list of all functions from the Function Library"
   ]
  },
  {
   "cell_type": "code",
   "execution_count": 31,
   "metadata": {},
   "outputs": [
    {
     "data": {
      "text/plain": [
       "['Normx', 'cosx', 'cube', 'expsquare', 'expx', 'sinx', 'subsquare', 'x2_x3']"
      ]
     },
     "execution_count": 31,
     "metadata": {},
     "output_type": "execute_result"
    }
   ],
   "source": [
    "funcObj = FunctionLibrary(1) # Declaring a default func object\n",
    "list_of_functions = [func for func in dir(funcObj) if callable(getattr(funcObj, func)) and not func.startswith(\"__\")]\n",
    "list_of_functions"
   ]
  },
  {
   "cell_type": "code",
   "execution_count": 32,
   "metadata": {},
   "outputs": [],
   "source": [
    "def transform(x):\n",
    "    ip = FunctionLibrary(x)\n",
    "    return getattr(ip, func)()"
   ]
  },
  {
   "cell_type": "markdown",
   "metadata": {},
   "source": [
    "### Iterating over all transformations and checking for linear separability using LP"
   ]
  },
  {
   "cell_type": "code",
   "execution_count": 35,
   "metadata": {
    "scrolled": true
   },
   "outputs": [
    {
     "name": "stdout",
     "output_type": "stream",
     "text": [
      "Transforming using Normx as the transformation function\n",
      "No linear separability\n",
      "--------------------------------------------------------------------------------\n",
      "Transforming using cosx as the transformation function\n",
      "No linear separability\n",
      "--------------------------------------------------------------------------------\n",
      "Transforming using cube as the transformation function\n",
      "No linear separability\n",
      "--------------------------------------------------------------------------------\n",
      "Transforming using expsquare as the transformation function\n"
     ]
    },
    {
     "name": "stderr",
     "output_type": "stream",
     "text": [
      "/Users/ambuj/Documents/MS Stuff/ml_cs_6350/ML_Project/env_ml/lib/python3.7/site-packages/numpy/lib/nanfunctions.py:1545: RuntimeWarning: overflow encountered in multiply\n",
      "  sqr = np.multiply(arr, arr, out=arr)\n",
      "/Users/ambuj/Documents/MS Stuff/ml_cs_6350/ML_Project/env_ml/lib/python3.7/site-packages/numpy/core/fromnumeric.py:90: RuntimeWarning: overflow encountered in reduce\n",
      "  return ufunc.reduce(obj, axis, dtype, out, **passkwargs)\n"
     ]
    },
    {
     "name": "stdout",
     "output_type": "stream",
     "text": [
      "No linear separability\n",
      "--------------------------------------------------------------------------------\n",
      "Transforming using expx as the transformation function\n",
      "No linear separability\n",
      "--------------------------------------------------------------------------------\n",
      "Transforming using sinx as the transformation function\n",
      "No linear separability\n",
      "--------------------------------------------------------------------------------\n",
      "Transforming using subsquare as the transformation function\n",
      "No linear separability\n",
      "--------------------------------------------------------------------------------\n",
      "Transforming using x2_x3 as the transformation function\n",
      "No linear separability\n",
      "--------------------------------------------------------------------------------\n"
     ]
    }
   ],
   "source": [
    "for func in list_of_functions:\n",
    "\n",
    "    print('Transforming using',func,'as the transformation function')\n",
    "    data_copy = data.copy()\n",
    "    \n",
    "    data_copy.iloc[:,0:4] = data_copy.iloc[:,0:4].applymap(lambda x: transform(x))\n",
    " \n",
    "    dic = {0: '0', 1: '1'}\n",
    "\n",
    "    for i in dic.keys():\n",
    "        data_copy[\"newTarget\"] = np.where(data_copy['class'] == i, 1 , -1)\n",
    "\n",
    "        from sklearn.preprocessing import StandardScaler\n",
    "        sc = StandardScaler()\n",
    "        tmp = data_copy.iloc[:,[1,3]].values\n",
    "        tmp = sc.fit_transform(tmp)\n",
    "\n",
    "        xx = np.array(data_copy.newTarget.values.reshape(-1,1) * tmp)\n",
    "        t = np.where(data_copy['class'] == i, 1 , -1)\n",
    "\n",
    "        #2-D array which, when matrix-multiplied by x, gives the values of \n",
    "        #the upper-bound inequality constraints at x.\n",
    "        A_ub = np.append(xx, t.reshape(-1,1), 1)\n",
    "\n",
    "        #1-D array of values representing the upper-bound of each \n",
    "        #inequality constraint (row) in A_ub.\n",
    "        b_ub = np.repeat(-1, A_ub.shape[0]).reshape(-1,1)\n",
    "\n",
    "        # Coefficients of the linear objective function to be minimized.\n",
    "        c_obj = np.repeat(1, A_ub.shape[1])\n",
    "        res = linprog(c=c_obj, A_ub=A_ub, b_ub=b_ub,\n",
    "                      options={\"disp\": False})\n",
    "\n",
    "        if res.success:\n",
    "            print('There is linear separability')\n",
    "        else:\n",
    "            print('No linear separability')\n",
    "        break #remove break in case of multiclass classification \n",
    "    print('-'*80)"
   ]
  }
 ],
 "metadata": {
  "kernelspec": {
   "display_name": "Python 3",
   "language": "python",
   "name": "python3"
  },
  "language_info": {
   "codemirror_mode": {
    "name": "ipython",
    "version": 3
   },
   "file_extension": ".py",
   "mimetype": "text/x-python",
   "name": "python",
   "nbconvert_exporter": "python",
   "pygments_lexer": "ipython3",
   "version": "3.7.4"
  }
 },
 "nbformat": 4,
 "nbformat_minor": 2
}
