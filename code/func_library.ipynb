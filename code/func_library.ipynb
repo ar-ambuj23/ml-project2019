{
 "cells": [
  {
   "cell_type": "code",
   "execution_count": 4,
   "metadata": {},
   "outputs": [],
   "source": [
    "import math"
   ]
  },
  {
   "cell_type": "code",
   "execution_count": 10,
   "metadata": {},
   "outputs": [],
   "source": [
    "class FunctionLibrary:\n",
    "    \n",
    "    def __init__(self, x):\n",
    "        self.x = x\n",
    "        \n",
    "#     def lnx(self):\n",
    "#         return math.log(self.x)\n",
    "\n",
    "    def expx(self):\n",
    "        return math.exp(self.x)\n",
    "    \n",
    "#     def invx(self):\n",
    "#         return 1/self.x\n",
    "    \n",
    "#     def x_lnx(self):\n",
    "#         return self.x*self.lnx()\n",
    "    \n",
    "#     def x_expx(self):\n",
    "#         return self.x*self.expx()\n",
    "    \n",
    "    def x2_x3(self):\n",
    "        return self.x**2 + self.x**3\n",
    "    \n",
    "    def sinx(self):\n",
    "        return math.sin(self.x)\n",
    "    \n",
    "    def cosx(self):\n",
    "        return math.cos(self.x)\n",
    "    \n",
    "    def Normx(self):\n",
    "        return math.exp(self.x**2- self.x)\n",
    "    \n",
    "    def ln1x(self):\n",
    "        return ln(self.x**2- self.x)\n",
    "    \n",
    "    def cube(self):\n",
    "        return (self.x**2- self.x)**3\n",
    "    \n",
    "    def subsquare(self):\n",
    "        return (self.x- self.x**2)**2\n",
    "    \n",
    "    def expsquare(self):\n",
    "        return math.exp(self.x**2 + self.x)**2\n",
    "\n",
    "#     def tanx(self):\n",
    "#         return math.tan(self.x)"
   ]
  }
 ],
 "metadata": {
  "kernelspec": {
   "display_name": "Python 3",
   "language": "python",
   "name": "python3"
  },
  "language_info": {
   "codemirror_mode": {
    "name": "ipython",
    "version": 3
   },
   "file_extension": ".py",
   "mimetype": "text/x-python",
   "name": "python",
   "nbconvert_exporter": "python",
   "pygments_lexer": "ipython3",
   "version": "3.7.4"
  }
 },
 "nbformat": 4,
 "nbformat_minor": 2
}
